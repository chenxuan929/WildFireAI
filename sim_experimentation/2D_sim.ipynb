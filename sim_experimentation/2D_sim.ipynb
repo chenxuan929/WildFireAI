{
 "cells": [
  {
   "cell_type": "code",
   "execution_count": 1,
   "metadata": {},
   "outputs": [
    {
     "data": {
      "image/png": "[encoded data removed]",
      "text/plain": [
       "<Figure size 700x700 with 1 Axes>"
      ]
     },
     "metadata": {},
     "output_type": "display_data"
    }
   ],
   "source": [
    "import numpy as np\n",
    "import matplotlib.pyplot as plt\n",
    "from IPython.display import display, clear_output\n",
    "\n",
    "# Define grid size\n",
    "GRID_SIZE = (20, 20)\n",
    "\n",
    "# Initialize fuel types (0=Grass, 1=Shrubs, 2=Trees, 3=Buildings)\n",
    "fuel_types = np.random.choice([0, 1, 2, 3], size=GRID_SIZE, p=[0.4, 0.3, 0.2, 0.1])\n",
    "\n",
    "# Define fire states\n",
    "UNBURNED, BURNING, BURNED, FIREBREAK = 0, 1, 2, 3\n",
    "fire_state = np.zeros(GRID_SIZE, dtype=int)  # Start with all cells unburned\n",
    "\n",
    "# Ignite a fire at a random location\n",
    "fire_x, fire_y = np.random.randint(0, GRID_SIZE[0]), np.random.randint(0, GRID_SIZE[1])\n",
    "fire_state[fire_x, fire_y] = BURNING\n",
    "\n",
    "# Transition probabilities based on fuel type\n",
    "fire_spread_probs = {  # Probability of catching fire based on fuel type\n",
    "    0: 0.3,  # Grass\n",
    "    1: 0.5,  # Shrubs\n",
    "    2: 0.7,  # Trees\n",
    "    3: 0.1   # Buildings (low probability)\n",
    "}\n",
    "\n",
    "fire_extinguish_prob = 0.2  # Probability that a burning cell extinguishes\n",
    "\n",
    "# Store fire spread history for animation\n",
    "fire_state_history = []\n",
    "\n",
    "# Run fire spread simulation for multiple steps\n",
    "for step in range(20):\n",
    "    new_fire_state = fire_state.copy()\n",
    "\n",
    "    for x in range(GRID_SIZE[0]):\n",
    "        for y in range(GRID_SIZE[1]):\n",
    "            if fire_state[x, y] == BURNING:  # Burning cell\n",
    "                for dx, dy in [(-1,0), (1,0), (0,-1), (0,1), (-1,-1), (-1,1), (1,-1), (1,1)]:\n",
    "                    nx, ny = x + dx, y + dy\n",
    "                    if 0 <= nx < GRID_SIZE[0] and 0 <= ny < GRID_SIZE[1]:  # Stay within bounds\n",
    "                        if fire_state[nx, ny] == UNBURNED:  # If neighbor is unburned\n",
    "                            spread_prob = fire_spread_probs[fuel_types[nx, ny]]\n",
    "                            if np.random.rand() < spread_prob:\n",
    "                                new_fire_state[nx, ny] = BURNING  # Fire spreads\n",
    "                \n",
    "                # Probability of fire extinguishing\n",
    "                if np.random.rand() < fire_extinguish_prob:\n",
    "                    new_fire_state[x, y] = BURNED  # Mark as burned\n",
    "\n",
    "    fire_state = new_fire_state.copy()\n",
    "    fire_state_history.append(fire_state.copy())\n",
    "\n",
    "# Visualization of fire spread in 2D\n",
    "def plot_fire_state(fire_state):\n",
    "    color_map = {UNBURNED: 0, BURNING: 1, BURNED: 2, FIREBREAK: 3}\n",
    "    fire_colored_grid = np.zeros((*GRID_SIZE, 3))  # RGB representation\n",
    "    \n",
    "    fire_colored_grid[fire_state == UNBURNED] = [0.0, 1.0, 0.0]  # Green\n",
    "    fire_colored_grid[fire_state == BURNING] = [1.0, 0.5, 0.0]  # Orange\n",
    "    fire_colored_grid[fire_state == BURNED] = [0.0, 0.0, 0.0]  # Black\n",
    "    fire_colored_grid[fire_state == FIREBREAK] = [0.0, 0.0, 1.0]  # Blue\n",
    "    \n",
    "    plt.figure(figsize=(7, 7))\n",
    "    plt.imshow(fire_colored_grid, interpolation='nearest')\n",
    "    plt.title(\"2D Wildfire Simulation\")\n",
    "    plt.axis(\"off\")\n",
    "    plt.show()\n",
    "\n",
    "# Display fire spread step by step\n",
    "for step in range(len(fire_state_history)):\n",
    "    clear_output(wait=True)\n",
    "    plot_fire_state(fire_state_history[step])\n",
    "    plt.pause(0.5)  # Pause for animation effect\n",
    "\n",
    "plt.show()  # Final frame display\n"
   ]
  }
 ],
 "metadata": {
  "kernelspec": {
   "display_name": "Python (gym_env)",
   "language": "python",
   "name": "gym_env"
  },
  "language_info": {
   "codemirror_mode": {
    "name": "ipython",
    "version": 3
   },
   "file_extension": ".py",
   "mimetype": "text/x-python",
   "name": "python",
   "nbconvert_exporter": "python",
   "pygments_lexer": "ipython3",
   "version": "3.13.1"
  },
  "orig_nbformat": 4,
  "vscode": {
   "interpreter": {
    "hash": "93ed1741e1499b49f848e9f1813316998354126b4e8f63537f09f332d8f42d8e"
   }
  }
 },
 "nbformat": 4,
 "nbformat_minor": 2
}
